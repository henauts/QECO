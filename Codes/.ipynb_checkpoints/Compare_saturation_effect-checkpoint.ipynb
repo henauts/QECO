{
 "cells": [
  {
   "cell_type": "code",
   "execution_count": 1,
   "id": "e012284a-9051-4912-92dc-ee01840a8d10",
   "metadata": {
    "collapsed": true,
    "jupyter": {
     "outputs_hidden": true
    },
    "tags": []
   },
   "outputs": [
    {
     "name": "stderr",
     "output_type": "stream",
     "text": [
      "\n",
      "Bad key text.latex.preview in file /home/pedroc/anaconda3/lib/python3.7/site-packages/matplotlib/mpl-data/stylelib/_classic_test.mplstyle, line 123 ('text.latex.preview : False')\n",
      "You probably need to get an updated matplotlibrc file from\n",
      "https://github.com/matplotlib/matplotlib/blob/v3.5.1/matplotlibrc.template\n",
      "or from the matplotlib source distribution\n",
      "\n",
      "Bad key mathtext.fallback_to_cm in file /home/pedroc/anaconda3/lib/python3.7/site-packages/matplotlib/mpl-data/stylelib/_classic_test.mplstyle, line 155 ('mathtext.fallback_to_cm : True  # When True, use symbols from the Computer Modern')\n",
      "You probably need to get an updated matplotlibrc file from\n",
      "https://github.com/matplotlib/matplotlib/blob/v3.5.1/matplotlibrc.template\n",
      "or from the matplotlib source distribution\n",
      "\n",
      "Bad key savefig.jpeg_quality in file /home/pedroc/anaconda3/lib/python3.7/site-packages/matplotlib/mpl-data/stylelib/_classic_test.mplstyle, line 418 ('savefig.jpeg_quality: 95       # when a jpeg is saved, the default quality parameter.')\n",
      "You probably need to get an updated matplotlibrc file from\n",
      "https://github.com/matplotlib/matplotlib/blob/v3.5.1/matplotlibrc.template\n",
      "or from the matplotlib source distribution\n",
      "\n",
      "Bad key keymap.all_axes in file /home/pedroc/anaconda3/lib/python3.7/site-packages/matplotlib/mpl-data/stylelib/_classic_test.mplstyle, line 466 ('keymap.all_axes : a                 # enable all axes')\n",
      "You probably need to get an updated matplotlibrc file from\n",
      "https://github.com/matplotlib/matplotlib/blob/v3.5.1/matplotlibrc.template\n",
      "or from the matplotlib source distribution\n",
      "\n",
      "Bad key animation.avconv_path in file /home/pedroc/anaconda3/lib/python3.7/site-packages/matplotlib/mpl-data/stylelib/_classic_test.mplstyle, line 477 ('animation.avconv_path: avconv     # Path to avconv binary. Without full path')\n",
      "You probably need to get an updated matplotlibrc file from\n",
      "https://github.com/matplotlib/matplotlib/blob/v3.5.1/matplotlibrc.template\n",
      "or from the matplotlib source distribution\n",
      "\n",
      "Bad key animation.avconv_args in file /home/pedroc/anaconda3/lib/python3.7/site-packages/matplotlib/mpl-data/stylelib/_classic_test.mplstyle, line 479 ('animation.avconv_args:            # Additional arguments to pass to avconv')\n",
      "You probably need to get an updated matplotlibrc file from\n",
      "https://github.com/matplotlib/matplotlib/blob/v3.5.1/matplotlibrc.template\n",
      "or from the matplotlib source distribution\n"
     ]
    }
   ],
   "source": [
    "import warnings\n",
    "warnings.filterwarnings('ignore')\n",
    "import numpy as np\n",
    "import time\n",
    "import bacteria_numba_no_saturation as bacnosat\n",
    "import bacteria_numba as bacsat\n",
    "import sys\n",
    "import os\n",
    "import matplotlib.pyplot as plt\n",
    "import seaborn as sns"
   ]
  },
  {
   "cell_type": "code",
   "execution_count": 2,
   "id": "62ec57a9-6ab6-49ad-8d56-b1e63e42d727",
   "metadata": {},
   "outputs": [],
   "source": [
    "plt.rc('text', usetex=True)\n",
    "plt.rc('font', family='serif')"
   ]
  },
  {
   "cell_type": "code",
   "execution_count": 12,
   "id": "15315853-5fd5-43fb-aab8-beea5f98f76a",
   "metadata": {},
   "outputs": [],
   "source": [
    "r = 0.69 # h⁻¹\n",
    "k = 0.1\n",
    "chi = 315/3600 # μm²/h\n",
    "gamma = r/k\n",
    "lambd = 1.25 # mM/OD600*h\n",
    "q = 1 # μM/h\n",
    "beta = 1\n",
    "\n",
    "D_b = 50.2/3600 # μm²/h\n",
    "D_s = 800/3600 # μm²/h\n",
    "#D_s = 1e-1\n",
    "t_c = 100\n",
    "t_max = 1000000#*(t_c/128)\n",
    "dt_size = 128\n",
    "x_max = 10\n",
    "x_L = 5\n",
    "dx = 0.1\n",
    "n = 100\n",
    "S_plus = 30 # μM\n",
    "S_minus = 1 # μM\n",
    "S_max = 1 # μM"
   ]
  },
  {
   "cell_type": "code",
   "execution_count": 13,
   "id": "2c4a3956-e64c-4c52-b9a0-632ec066ff61",
   "metadata": {},
   "outputs": [],
   "source": [
    "# Initial condition\n",
    "S = np.zeros(n)\n",
    "rho = rho = np.random.uniform(0.1, 0.1, n)"
   ]
  },
  {
   "cell_type": "code",
   "execution_count": 14,
   "id": "c48bb5e3-b4c4-4445-a2f1-712794ef03bc",
   "metadata": {},
   "outputs": [
    {
     "name": "stdout",
     "output_type": "stream",
     "text": [
      "Still computing... step: 0\n",
      "Still computing... step: 0\n"
     ]
    }
   ],
   "source": [
    "test = bacsat.solve_model(5, rho, S, 0, 5, n, D_s, D_b, chi, r, k, lambd, 1, 5, 0.6, beta, S_plus, S_minus, S_max, 32)\n",
    "test = bacnosat.solve_model(5, rho, S, 0, 5, n, D_s, D_b, chi, r, k, lambd, 1, 5, 0.6, beta, 32)"
   ]
  },
  {
   "cell_type": "code",
   "execution_count": 15,
   "id": "c3b39925-a0b7-4bb8-bf28-639a35306dae",
   "metadata": {},
   "outputs": [],
   "source": [
    "del test"
   ]
  },
  {
   "cell_type": "code",
   "execution_count": 25,
   "id": "a3d30d49-b706-43e8-8173-8c7bfdb8a843",
   "metadata": {},
   "outputs": [
    {
     "name": "stdout",
     "output_type": "stream",
     "text": [
      "Still computing... step: 0\n",
      "Still computing... step: 20000\n",
      "Still computing... step: 40000\n",
      "Still computing... step: 60000\n",
      "Still computing... step: 80000\n",
      "Still computing... step: 100000\n",
      "Still computing... step: 120000\n",
      "Still computing... step: 140000\n",
      "Still computing... step: 160000\n",
      "Still computing... step: 180000\n",
      "Still computing... step: 200000\n",
      "Still computing... step: 220000\n",
      "Still computing... step: 240000\n",
      "Still computing... step: 260000\n",
      "Still computing... step: 280000\n",
      "Still computing... step: 0\n",
      "Still computing... step: 20000\n",
      "Still computing... step: 40000\n",
      "Still computing... step: 60000\n",
      "Still computing... step: 80000\n",
      "Still computing... step: 100000\n",
      "Still computing... step: 120000\n",
      "Still computing... step: 140000\n",
      "Still computing... step: 0\n",
      "Still computing... step: 20000\n",
      "Still computing... step: 40000\n",
      "Still computing... step: 60000\n",
      "Still computing... step: 80000\n",
      "Still computing... step: 100000\n",
      "Still computing... step: 0\n",
      "Still computing... step: 20000\n",
      "Still computing... step: 40000\n",
      "Still computing... step: 60000\n",
      "Still computing... step: 80000\n",
      "Still computing... step: 100000\n",
      "Still computing... step: 120000\n",
      "Still computing... step: 140000\n"
     ]
    },
    {
     "data": {
      "image/png": "[encoded data removed]",
      "text/plain": [
       "<Figure size 640x480 with 1 Axes>"
      ]
     },
     "metadata": {},
     "output_type": "display_data"
    }
   ],
   "source": [
    "fig, ax = plt.subplots()\n",
    "for i in range(2):\n",
    "    x_L = 1 + 4*i\n",
    "    \n",
    "    rhos_sat, Ss_sat, tot_rho_sat, tot_S_sat, idx_sat, dx_sat, dt_sat, x_sat = bacsat.solve_model(t_max, rho, S, 0,\n",
    "                                                        x_max, n, D_s, D_b, chi,\n",
    "                                                        r, k, lambd, t_c, x_L,\n",
    "                                                        q, beta, S_plus, S_minus, S_max, dt_size, automatic_stop = False, print_progress = False)\n",
    "    \n",
    "    rhos_nosat, Ss_nosat, tot_rho_nosat, tot_S_nosat, idx_nosat, dx_nosat, dt_nosat, x_nosat = bacnosat.solve_model(t_max, rho, S, 0,\n",
    "                                                        x_max, n, D_s, D_b, chi,\n",
    "                                                        r, k, lambd, t_c, x_L,\n",
    "                                                        q, beta, dt_size, automatic_stop = False, print_progress = False)\n",
    "    \n",
    "    plt.plot([i*dt_sat for i in range(idx_sat+2)], tot_rho_sat)\n",
    "    plt.plot([i*dt_nosat for i in range(idx_nosat+2)], tot_rho_nosat)\n",
    "\n",
    "plt.axvline(t_c, ls = '--')\n",
    "plt.show()"
   ]
  },
  {
   "cell_type": "code",
   "execution_count": 17,
   "id": "d2d021fb-c35c-4f11-a37b-f6cb3e578675",
   "metadata": {},
   "outputs": [
    {
     "name": "stdout",
     "output_type": "stream",
     "text": [
      "Still computing... step: 0\n",
      "Still computing... step: 20000\n",
      "Still computing... step: 40000\n",
      "Still computing... step: 60000\n",
      "Still computing... step: 80000\n",
      "Still computing... step: 100000\n",
      "Still computing... step: 120000\n",
      "Still computing... step: 140000\n"
     ]
    }
   ],
   "source": [
    "rhos_nosat, Ss_nosat, tot_rho_nosat, tot_S_nosat, idx_nosat, dx_nosat, dt_nosat, x_nosat = bacnosat.solve_model(t_max, rho, S, 0,\n",
    "                                                        x_max, n, D_s, D_b, chi,\n",
    "                                                        r, k, lambd, t_c, x_L,\n",
    "                                                        q, beta, dt_size)"
   ]
  },
  {
   "cell_type": "code",
   "execution_count": 24,
   "id": "3d769cf0-1c75-4379-b36f-c58fdd39ad02",
   "metadata": {},
   "outputs": [
    {
     "data": {
      "image/png": "[encoded data removed]",
      "text/plain": [
       "<Figure size 640x480 with 1 Axes>"
      ]
     },
     "metadata": {},
     "output_type": "display_data"
    }
   ],
   "source": [
    "plt.plot([i*dt_sat for i in range(idx_sat+2)], tot_rho_sat)\n",
    "plt.plot([i*dt_nosat for i in range(idx_nosat+2)], tot_rho_nosat)\n",
    "plt.axvline(t_c, ls = '--')\n",
    "plt.show()"
   ]
  },
  {
   "cell_type": "code",
   "execution_count": null,
   "id": "22660b98-9ea0-4462-acb1-23bfca5af1d6",
   "metadata": {},
   "outputs": [],
   "source": []
  }
 ],
 "metadata": {
  "kernelspec": {
   "display_name": "Python 3",
   "language": "python",
   "name": "python3"
  },
  "language_info": {
   "codemirror_mode": {
    "name": "ipython",
    "version": 3
   },
   "file_extension": ".py",
   "mimetype": "text/x-python",
   "name": "python",
   "nbconvert_exporter": "python",
   "pygments_lexer": "ipython3",
   "version": "3.7.11"
  }
 },
 "nbformat": 4,
 "nbformat_minor": 5
}
